{
 "cells": [
  {
   "cell_type": "markdown",
   "metadata": {},
   "source": [
    "# Intro To ML"
   ]
  },
  {
   "cell_type": "markdown",
   "metadata": {},
   "source": [
    "Haoyuan Chen; ID: 1664352\n",
    "\n",
    "In this lab, we explore two basic models of machine learning: Boosted Decision Tree(BDT) and fully connected Neural Networks. We triained these two models to predict the decay length given the layer energies."
   ]
  },
  {
   "cell_type": "markdown",
   "metadata": {},
   "source": [
    "In general, a decision tree takes a set of input feature and splits input data recursively based on those feature. Its goal is to predict the value of target variables by learning decision rules inferred from data features. \n",
    "\n",
    "Fully connected neural networks is a multi-layer structured learning model, with each neuron in one layer is connected to every neurons in the next layer. The activation of a neuron will give weighted activation to the neurons in the next layer, and with such activation pass on, the model gives outputs."
   ]
  },
  {
   "cell_type": "markdown",
   "metadata": {},
   "source": [
    "## 1.Preparing the Data\n",
    "\n",
    "First of all, we need to prepare the data for the model's training by loading the LLP files into pandas dataframe and filter out the desired data. In this case, we will use the data only from long lived particle. \""
   ]
  },
  {
   "cell_type": "code",
   "execution_count": 2,
   "metadata": {},
   "outputs": [],
   "source": [
    "import numpy as np\n",
    "import uproot\n",
    "import pandas as pd\n",
    "import matplotlib.pyplot as plt\n",
    "import seaborn as sns"
   ]
  },
  {
   "cell_type": "code",
   "execution_count": 22,
   "metadata": {},
   "outputs": [],
   "source": [
    "#open up all the llp files and load them into pandas dataframe\n",
    "file1 = uproot.open(\"./llpfiles/df_1.root\")\n",
    "file2 = uproot.open(\"./llpfiles/df_2.root\")\n",
    "file3 = uproot.open(\"./llpfiles/df_3.root\")\n",
    "file4 = uproot.open(\"./llpfiles/df_4.root\")\n",
    "file5 = uproot.open(\"./llpfiles/df_5.root\")\n",
    "file6 = uproot.open(\"./llpfiles/df_6.root\")\n",
    "\n",
    "tree1 = file1[\"pandas_tree218\"].pandas.df()\n",
    "tree2 = file2[\"pandas_tree51358\"].pandas.df()\n",
    "tree3 = file3[\"pandas_tree53278\"].pandas.df()\n",
    "tree4 = file4[\"pandas_tree52558\"].pandas.df()\n",
    "tree5 = file5[\"pandas_tree53038\"].pandas.df()\n",
    "tree6 = file6[\"pandas_tree54718\"].pandas.df()"
   ]
  },
  {
   "cell_type": "code",
   "execution_count": 44,
   "metadata": {},
   "outputs": [
    {
     "data": {
      "text/html": [
       "<div>\n",
       "<style scoped>\n",
       "    .dataframe tbody tr th:only-of-type {\n",
       "        vertical-align: middle;\n",
       "    }\n",
       "\n",
       "    .dataframe tbody tr th {\n",
       "        vertical-align: top;\n",
       "    }\n",
       "\n",
       "    .dataframe thead th {\n",
       "        text-align: right;\n",
       "    }\n",
       "</style>\n",
       "<table border=\"1\" class=\"dataframe\">\n",
       "  <thead>\n",
       "    <tr style=\"text-align: right;\">\n",
       "      <th></th>\n",
       "      <th></th>\n",
       "      <th>RunNumber</th>\n",
       "      <th>EventNumber</th>\n",
       "      <th>JetPt</th>\n",
       "      <th>JetEta</th>\n",
       "      <th>JetPhi</th>\n",
       "      <th>IsLLP</th>\n",
       "      <th>nLLPs_Near_Jets</th>\n",
       "      <th>Lx</th>\n",
       "      <th>Ly</th>\n",
       "      <th>Lz</th>\n",
       "      <th>...</th>\n",
       "      <th>EH_TGL1</th>\n",
       "      <th>EH_TGL2</th>\n",
       "      <th>EH_EBL0</th>\n",
       "      <th>EH_EBL1</th>\n",
       "      <th>EH_EBL2</th>\n",
       "      <th>FC_L0</th>\n",
       "      <th>FC_L1</th>\n",
       "      <th>FC_L2</th>\n",
       "      <th>Lpt</th>\n",
       "      <th>Lpz</th>\n",
       "    </tr>\n",
       "    <tr>\n",
       "      <th>Tree</th>\n",
       "      <th>entry</th>\n",
       "      <th></th>\n",
       "      <th></th>\n",
       "      <th></th>\n",
       "      <th></th>\n",
       "      <th></th>\n",
       "      <th></th>\n",
       "      <th></th>\n",
       "      <th></th>\n",
       "      <th></th>\n",
       "      <th></th>\n",
       "      <th></th>\n",
       "      <th></th>\n",
       "      <th></th>\n",
       "      <th></th>\n",
       "      <th></th>\n",
       "      <th></th>\n",
       "      <th></th>\n",
       "      <th></th>\n",
       "      <th></th>\n",
       "      <th></th>\n",
       "      <th></th>\n",
       "    </tr>\n",
       "  </thead>\n",
       "  <tbody>\n",
       "    <tr>\n",
       "      <td rowspan=\"5\" valign=\"top\">tree1</td>\n",
       "      <td>0</td>\n",
       "      <td>284500.0</td>\n",
       "      <td>2041602.0</td>\n",
       "      <td>50.151355</td>\n",
       "      <td>1.767030</td>\n",
       "      <td>0.074290</td>\n",
       "      <td>True</td>\n",
       "      <td>1</td>\n",
       "      <td>1851.684326</td>\n",
       "      <td>178.223892</td>\n",
       "      <td>5354.035156</td>\n",
       "      <td>...</td>\n",
       "      <td>0.000000</td>\n",
       "      <td>0.000000</td>\n",
       "      <td>0.019344</td>\n",
       "      <td>0.000731</td>\n",
       "      <td>0.000000</td>\n",
       "      <td>0.0</td>\n",
       "      <td>0.0</td>\n",
       "      <td>0.0</td>\n",
       "      <td>NaN</td>\n",
       "      <td>NaN</td>\n",
       "    </tr>\n",
       "    <tr>\n",
       "      <td>2</td>\n",
       "      <td>284500.0</td>\n",
       "      <td>2159562.0</td>\n",
       "      <td>163.244844</td>\n",
       "      <td>1.709549</td>\n",
       "      <td>2.769850</td>\n",
       "      <td>True</td>\n",
       "      <td>1</td>\n",
       "      <td>609.158691</td>\n",
       "      <td>239.010056</td>\n",
       "      <td>1741.357788</td>\n",
       "      <td>...</td>\n",
       "      <td>0.000000</td>\n",
       "      <td>0.000000</td>\n",
       "      <td>0.004981</td>\n",
       "      <td>-0.000061</td>\n",
       "      <td>0.000000</td>\n",
       "      <td>0.0</td>\n",
       "      <td>0.0</td>\n",
       "      <td>0.0</td>\n",
       "      <td>NaN</td>\n",
       "      <td>NaN</td>\n",
       "    </tr>\n",
       "    <tr>\n",
       "      <td>6</td>\n",
       "      <td>284500.0</td>\n",
       "      <td>2041493.0</td>\n",
       "      <td>46.729578</td>\n",
       "      <td>-1.403121</td>\n",
       "      <td>-1.725780</td>\n",
       "      <td>True</td>\n",
       "      <td>1</td>\n",
       "      <td>122.027023</td>\n",
       "      <td>903.753418</td>\n",
       "      <td>1733.289429</td>\n",
       "      <td>...</td>\n",
       "      <td>0.000000</td>\n",
       "      <td>0.000401</td>\n",
       "      <td>0.039884</td>\n",
       "      <td>0.011312</td>\n",
       "      <td>-0.000262</td>\n",
       "      <td>0.0</td>\n",
       "      <td>0.0</td>\n",
       "      <td>0.0</td>\n",
       "      <td>NaN</td>\n",
       "      <td>NaN</td>\n",
       "    </tr>\n",
       "    <tr>\n",
       "      <td>8</td>\n",
       "      <td>284500.0</td>\n",
       "      <td>2159659.0</td>\n",
       "      <td>47.010680</td>\n",
       "      <td>-0.627007</td>\n",
       "      <td>-0.930283</td>\n",
       "      <td>True</td>\n",
       "      <td>1</td>\n",
       "      <td>2115.701660</td>\n",
       "      <td>2620.996338</td>\n",
       "      <td>2361.141357</td>\n",
       "      <td>...</td>\n",
       "      <td>0.001884</td>\n",
       "      <td>0.000000</td>\n",
       "      <td>0.000000</td>\n",
       "      <td>0.000000</td>\n",
       "      <td>0.000000</td>\n",
       "      <td>0.0</td>\n",
       "      <td>0.0</td>\n",
       "      <td>0.0</td>\n",
       "      <td>NaN</td>\n",
       "      <td>NaN</td>\n",
       "    </tr>\n",
       "    <tr>\n",
       "      <td>9</td>\n",
       "      <td>284500.0</td>\n",
       "      <td>2159064.0</td>\n",
       "      <td>59.273605</td>\n",
       "      <td>-0.498937</td>\n",
       "      <td>2.036183</td>\n",
       "      <td>True</td>\n",
       "      <td>1</td>\n",
       "      <td>312.372742</td>\n",
       "      <td>689.039124</td>\n",
       "      <td>424.279541</td>\n",
       "      <td>...</td>\n",
       "      <td>0.007204</td>\n",
       "      <td>0.000000</td>\n",
       "      <td>0.000000</td>\n",
       "      <td>0.000000</td>\n",
       "      <td>0.000269</td>\n",
       "      <td>0.0</td>\n",
       "      <td>0.0</td>\n",
       "      <td>0.0</td>\n",
       "      <td>NaN</td>\n",
       "      <td>NaN</td>\n",
       "    </tr>\n",
       "    <tr>\n",
       "      <td>...</td>\n",
       "      <td>...</td>\n",
       "      <td>...</td>\n",
       "      <td>...</td>\n",
       "      <td>...</td>\n",
       "      <td>...</td>\n",
       "      <td>...</td>\n",
       "      <td>...</td>\n",
       "      <td>...</td>\n",
       "      <td>...</td>\n",
       "      <td>...</td>\n",
       "      <td>...</td>\n",
       "      <td>...</td>\n",
       "      <td>...</td>\n",
       "      <td>...</td>\n",
       "      <td>...</td>\n",
       "      <td>...</td>\n",
       "      <td>...</td>\n",
       "      <td>...</td>\n",
       "      <td>...</td>\n",
       "      <td>...</td>\n",
       "      <td>...</td>\n",
       "      <td>...</td>\n",
       "    </tr>\n",
       "    <tr>\n",
       "      <td rowspan=\"5\" valign=\"top\">tree6</td>\n",
       "      <td>1695787</td>\n",
       "      <td>310000.0</td>\n",
       "      <td>2628463.0</td>\n",
       "      <td>607.340875</td>\n",
       "      <td>-0.460089</td>\n",
       "      <td>1.738304</td>\n",
       "      <td>True</td>\n",
       "      <td>1</td>\n",
       "      <td>426.450104</td>\n",
       "      <td>2442.497803</td>\n",
       "      <td>1213.441162</td>\n",
       "      <td>...</td>\n",
       "      <td>0.000081</td>\n",
       "      <td>0.000000</td>\n",
       "      <td>0.000000</td>\n",
       "      <td>0.000000</td>\n",
       "      <td>0.000000</td>\n",
       "      <td>0.0</td>\n",
       "      <td>0.0</td>\n",
       "      <td>0.0</td>\n",
       "      <td>362247.626144</td>\n",
       "      <td>-177284.000000</td>\n",
       "    </tr>\n",
       "    <tr>\n",
       "      <td>1695792</td>\n",
       "      <td>310000.0</td>\n",
       "      <td>2629127.0</td>\n",
       "      <td>167.727344</td>\n",
       "      <td>-1.445995</td>\n",
       "      <td>0.738336</td>\n",
       "      <td>True</td>\n",
       "      <td>1</td>\n",
       "      <td>1441.990723</td>\n",
       "      <td>1419.345825</td>\n",
       "      <td>4256.796387</td>\n",
       "      <td>...</td>\n",
       "      <td>0.000269</td>\n",
       "      <td>0.002398</td>\n",
       "      <td>0.447402</td>\n",
       "      <td>0.085084</td>\n",
       "      <td>0.026268</td>\n",
       "      <td>0.0</td>\n",
       "      <td>0.0</td>\n",
       "      <td>0.0</td>\n",
       "      <td>154859.770543</td>\n",
       "      <td>-325802.156250</td>\n",
       "    </tr>\n",
       "    <tr>\n",
       "      <td>1695797</td>\n",
       "      <td>310000.0</td>\n",
       "      <td>2629903.0</td>\n",
       "      <td>208.756359</td>\n",
       "      <td>0.050490</td>\n",
       "      <td>1.775342</td>\n",
       "      <td>True</td>\n",
       "      <td>1</td>\n",
       "      <td>487.297394</td>\n",
       "      <td>2181.379883</td>\n",
       "      <td>341.350647</td>\n",
       "      <td>...</td>\n",
       "      <td>0.000000</td>\n",
       "      <td>0.000000</td>\n",
       "      <td>0.000000</td>\n",
       "      <td>0.000000</td>\n",
       "      <td>0.000000</td>\n",
       "      <td>0.0</td>\n",
       "      <td>0.0</td>\n",
       "      <td>0.0</td>\n",
       "      <td>181654.953368</td>\n",
       "      <td>27742.279297</td>\n",
       "    </tr>\n",
       "    <tr>\n",
       "      <td>1695820</td>\n",
       "      <td>310000.0</td>\n",
       "      <td>2629720.0</td>\n",
       "      <td>83.999984</td>\n",
       "      <td>-2.002803</td>\n",
       "      <td>2.893714</td>\n",
       "      <td>True</td>\n",
       "      <td>1</td>\n",
       "      <td>1011.810425</td>\n",
       "      <td>309.933258</td>\n",
       "      <td>3259.207275</td>\n",
       "      <td>...</td>\n",
       "      <td>0.000000</td>\n",
       "      <td>0.000000</td>\n",
       "      <td>0.000000</td>\n",
       "      <td>0.000000</td>\n",
       "      <td>0.000000</td>\n",
       "      <td>0.0</td>\n",
       "      <td>0.0</td>\n",
       "      <td>0.0</td>\n",
       "      <td>189880.445424</td>\n",
       "      <td>-584814.750000</td>\n",
       "    </tr>\n",
       "    <tr>\n",
       "      <td>1695822</td>\n",
       "      <td>310000.0</td>\n",
       "      <td>2628963.0</td>\n",
       "      <td>216.514703</td>\n",
       "      <td>0.155385</td>\n",
       "      <td>2.572538</td>\n",
       "      <td>True</td>\n",
       "      <td>1</td>\n",
       "      <td>2221.168945</td>\n",
       "      <td>1310.453613</td>\n",
       "      <td>443.914246</td>\n",
       "      <td>...</td>\n",
       "      <td>0.000000</td>\n",
       "      <td>0.000000</td>\n",
       "      <td>0.000000</td>\n",
       "      <td>0.000000</td>\n",
       "      <td>0.000000</td>\n",
       "      <td>0.0</td>\n",
       "      <td>0.0</td>\n",
       "      <td>0.0</td>\n",
       "      <td>145729.990106</td>\n",
       "      <td>25084.673828</td>\n",
       "    </tr>\n",
       "  </tbody>\n",
       "</table>\n",
       "<p>707209 rows × 38 columns</p>\n",
       "</div>"
      ],
      "text/plain": [
       "               RunNumber  EventNumber       JetPt    JetEta    JetPhi  IsLLP  \\\n",
       "Tree  entry                                                                    \n",
       "tree1 0         284500.0    2041602.0   50.151355  1.767030  0.074290   True   \n",
       "      2         284500.0    2159562.0  163.244844  1.709549  2.769850   True   \n",
       "      6         284500.0    2041493.0   46.729578 -1.403121 -1.725780   True   \n",
       "      8         284500.0    2159659.0   47.010680 -0.627007 -0.930283   True   \n",
       "      9         284500.0    2159064.0   59.273605 -0.498937  2.036183   True   \n",
       "...                  ...          ...         ...       ...       ...    ...   \n",
       "tree6 1695787   310000.0    2628463.0  607.340875 -0.460089  1.738304   True   \n",
       "      1695792   310000.0    2629127.0  167.727344 -1.445995  0.738336   True   \n",
       "      1695797   310000.0    2629903.0  208.756359  0.050490  1.775342   True   \n",
       "      1695820   310000.0    2629720.0   83.999984 -2.002803  2.893714   True   \n",
       "      1695822   310000.0    2628963.0  216.514703  0.155385  2.572538   True   \n",
       "\n",
       "               nLLPs_Near_Jets           Lx           Ly           Lz  ...  \\\n",
       "Tree  entry                                                            ...   \n",
       "tree1 0                      1  1851.684326   178.223892  5354.035156  ...   \n",
       "      2                      1   609.158691   239.010056  1741.357788  ...   \n",
       "      6                      1   122.027023   903.753418  1733.289429  ...   \n",
       "      8                      1  2115.701660  2620.996338  2361.141357  ...   \n",
       "      9                      1   312.372742   689.039124   424.279541  ...   \n",
       "...                        ...          ...          ...          ...  ...   \n",
       "tree6 1695787                1   426.450104  2442.497803  1213.441162  ...   \n",
       "      1695792                1  1441.990723  1419.345825  4256.796387  ...   \n",
       "      1695797                1   487.297394  2181.379883   341.350647  ...   \n",
       "      1695820                1  1011.810425   309.933258  3259.207275  ...   \n",
       "      1695822                1  2221.168945  1310.453613   443.914246  ...   \n",
       "\n",
       "                EH_TGL1   EH_TGL2   EH_EBL0   EH_EBL1   EH_EBL2  FC_L0  FC_L1  \\\n",
       "Tree  entry                                                                     \n",
       "tree1 0        0.000000  0.000000  0.019344  0.000731  0.000000    0.0    0.0   \n",
       "      2        0.000000  0.000000  0.004981 -0.000061  0.000000    0.0    0.0   \n",
       "      6        0.000000  0.000401  0.039884  0.011312 -0.000262    0.0    0.0   \n",
       "      8        0.001884  0.000000  0.000000  0.000000  0.000000    0.0    0.0   \n",
       "      9        0.007204  0.000000  0.000000  0.000000  0.000269    0.0    0.0   \n",
       "...                 ...       ...       ...       ...       ...    ...    ...   \n",
       "tree6 1695787  0.000081  0.000000  0.000000  0.000000  0.000000    0.0    0.0   \n",
       "      1695792  0.000269  0.002398  0.447402  0.085084  0.026268    0.0    0.0   \n",
       "      1695797  0.000000  0.000000  0.000000  0.000000  0.000000    0.0    0.0   \n",
       "      1695820  0.000000  0.000000  0.000000  0.000000  0.000000    0.0    0.0   \n",
       "      1695822  0.000000  0.000000  0.000000  0.000000  0.000000    0.0    0.0   \n",
       "\n",
       "               FC_L2            Lpt            Lpz  \n",
       "Tree  entry                                         \n",
       "tree1 0          0.0            NaN            NaN  \n",
       "      2          0.0            NaN            NaN  \n",
       "      6          0.0            NaN            NaN  \n",
       "      8          0.0            NaN            NaN  \n",
       "      9          0.0            NaN            NaN  \n",
       "...              ...            ...            ...  \n",
       "tree6 1695787    0.0  362247.626144 -177284.000000  \n",
       "      1695792    0.0  154859.770543 -325802.156250  \n",
       "      1695797    0.0  181654.953368   27742.279297  \n",
       "      1695820    0.0  189880.445424 -584814.750000  \n",
       "      1695822    0.0  145729.990106   25084.673828  \n",
       "\n",
       "[707209 rows x 38 columns]"
      ]
     },
     "execution_count": 44,
     "metadata": {},
     "output_type": "execute_result"
    }
   ],
   "source": [
    "#combine the data and filter out the desired data. Here, the desired data is loaded into \"LLP_tree\".\n",
    "comb_tree = pd.concat([tree1,tree2,tree3,tree4,tree5,tree6], keys = [\"tree1\",\"tree2\",\"tree3\",\"tree4\",\"tree5\",\"tree6\"], names = [\"Tree\"], sort = False)\n",
    "LLP_tree = comb_tree.loc[comb_tree.IsLLP == True]\n",
    "LLP_tree"
   ]
  },
  {
   "cell_type": "code",
   "execution_count": 63,
   "metadata": {},
   "outputs": [
    {
     "name": "stderr",
     "output_type": "stream",
     "text": [
      "C:\\Users\\18917\\Anaconda3\\lib\\site-packages\\ipykernel_launcher.py:2: SettingWithCopyWarning: \n",
      "A value is trying to be set on a copy of a slice from a DataFrame.\n",
      "Try using .loc[row_indexer,col_indexer] = value instead\n",
      "\n",
      "See the caveats in the documentation: http://pandas.pydata.org/pandas-docs/stable/user_guide/indexing.html#returning-a-view-versus-a-copy\n",
      "  \n"
     ]
    },
    {
     "data": {
      "text/html": [
       "<div>\n",
       "<style scoped>\n",
       "    .dataframe tbody tr th:only-of-type {\n",
       "        vertical-align: middle;\n",
       "    }\n",
       "\n",
       "    .dataframe tbody tr th {\n",
       "        vertical-align: top;\n",
       "    }\n",
       "\n",
       "    .dataframe thead th {\n",
       "        text-align: right;\n",
       "    }\n",
       "</style>\n",
       "<table border=\"1\" class=\"dataframe\">\n",
       "  <thead>\n",
       "    <tr style=\"text-align: right;\">\n",
       "      <th></th>\n",
       "      <th></th>\n",
       "      <th>RunNumber</th>\n",
       "      <th>EventNumber</th>\n",
       "      <th>JetPt</th>\n",
       "      <th>JetEta</th>\n",
       "      <th>JetPhi</th>\n",
       "      <th>IsLLP</th>\n",
       "      <th>nLLPs_Near_Jets</th>\n",
       "      <th>Lx</th>\n",
       "      <th>Ly</th>\n",
       "      <th>Lz</th>\n",
       "      <th>...</th>\n",
       "      <th>EH_TGL2</th>\n",
       "      <th>EH_EBL0</th>\n",
       "      <th>EH_EBL1</th>\n",
       "      <th>EH_EBL2</th>\n",
       "      <th>FC_L0</th>\n",
       "      <th>FC_L1</th>\n",
       "      <th>FC_L2</th>\n",
       "      <th>Lpt</th>\n",
       "      <th>Lpz</th>\n",
       "      <th>Lxy</th>\n",
       "    </tr>\n",
       "    <tr>\n",
       "      <th>Tree</th>\n",
       "      <th>entry</th>\n",
       "      <th></th>\n",
       "      <th></th>\n",
       "      <th></th>\n",
       "      <th></th>\n",
       "      <th></th>\n",
       "      <th></th>\n",
       "      <th></th>\n",
       "      <th></th>\n",
       "      <th></th>\n",
       "      <th></th>\n",
       "      <th></th>\n",
       "      <th></th>\n",
       "      <th></th>\n",
       "      <th></th>\n",
       "      <th></th>\n",
       "      <th></th>\n",
       "      <th></th>\n",
       "      <th></th>\n",
       "      <th></th>\n",
       "      <th></th>\n",
       "      <th></th>\n",
       "    </tr>\n",
       "  </thead>\n",
       "  <tbody>\n",
       "    <tr>\n",
       "      <td rowspan=\"5\" valign=\"top\">tree1</td>\n",
       "      <td>0</td>\n",
       "      <td>284500.0</td>\n",
       "      <td>2041602.0</td>\n",
       "      <td>50.151355</td>\n",
       "      <td>1.767030</td>\n",
       "      <td>0.074290</td>\n",
       "      <td>True</td>\n",
       "      <td>1</td>\n",
       "      <td>1851.684326</td>\n",
       "      <td>178.223892</td>\n",
       "      <td>5354.035156</td>\n",
       "      <td>...</td>\n",
       "      <td>0.000000</td>\n",
       "      <td>0.019344</td>\n",
       "      <td>0.000731</td>\n",
       "      <td>0.000000</td>\n",
       "      <td>0.0</td>\n",
       "      <td>0.0</td>\n",
       "      <td>0.0</td>\n",
       "      <td>NaN</td>\n",
       "      <td>NaN</td>\n",
       "      <td>1860.241543</td>\n",
       "    </tr>\n",
       "    <tr>\n",
       "      <td>2</td>\n",
       "      <td>284500.0</td>\n",
       "      <td>2159562.0</td>\n",
       "      <td>163.244844</td>\n",
       "      <td>1.709549</td>\n",
       "      <td>2.769850</td>\n",
       "      <td>True</td>\n",
       "      <td>1</td>\n",
       "      <td>609.158691</td>\n",
       "      <td>239.010056</td>\n",
       "      <td>1741.357788</td>\n",
       "      <td>...</td>\n",
       "      <td>0.000000</td>\n",
       "      <td>0.004981</td>\n",
       "      <td>-0.000061</td>\n",
       "      <td>0.000000</td>\n",
       "      <td>0.0</td>\n",
       "      <td>0.0</td>\n",
       "      <td>0.0</td>\n",
       "      <td>NaN</td>\n",
       "      <td>NaN</td>\n",
       "      <td>654.370016</td>\n",
       "    </tr>\n",
       "    <tr>\n",
       "      <td>6</td>\n",
       "      <td>284500.0</td>\n",
       "      <td>2041493.0</td>\n",
       "      <td>46.729578</td>\n",
       "      <td>-1.403121</td>\n",
       "      <td>-1.725780</td>\n",
       "      <td>True</td>\n",
       "      <td>1</td>\n",
       "      <td>122.027023</td>\n",
       "      <td>903.753418</td>\n",
       "      <td>1733.289429</td>\n",
       "      <td>...</td>\n",
       "      <td>0.000401</td>\n",
       "      <td>0.039884</td>\n",
       "      <td>0.011312</td>\n",
       "      <td>-0.000262</td>\n",
       "      <td>0.0</td>\n",
       "      <td>0.0</td>\n",
       "      <td>0.0</td>\n",
       "      <td>NaN</td>\n",
       "      <td>NaN</td>\n",
       "      <td>911.954404</td>\n",
       "    </tr>\n",
       "    <tr>\n",
       "      <td>8</td>\n",
       "      <td>284500.0</td>\n",
       "      <td>2159659.0</td>\n",
       "      <td>47.010680</td>\n",
       "      <td>-0.627007</td>\n",
       "      <td>-0.930283</td>\n",
       "      <td>True</td>\n",
       "      <td>1</td>\n",
       "      <td>2115.701660</td>\n",
       "      <td>2620.996338</td>\n",
       "      <td>2361.141357</td>\n",
       "      <td>...</td>\n",
       "      <td>0.000000</td>\n",
       "      <td>0.000000</td>\n",
       "      <td>0.000000</td>\n",
       "      <td>0.000000</td>\n",
       "      <td>0.0</td>\n",
       "      <td>0.0</td>\n",
       "      <td>0.0</td>\n",
       "      <td>NaN</td>\n",
       "      <td>NaN</td>\n",
       "      <td>3368.354987</td>\n",
       "    </tr>\n",
       "    <tr>\n",
       "      <td>9</td>\n",
       "      <td>284500.0</td>\n",
       "      <td>2159064.0</td>\n",
       "      <td>59.273605</td>\n",
       "      <td>-0.498937</td>\n",
       "      <td>2.036183</td>\n",
       "      <td>True</td>\n",
       "      <td>1</td>\n",
       "      <td>312.372742</td>\n",
       "      <td>689.039124</td>\n",
       "      <td>424.279541</td>\n",
       "      <td>...</td>\n",
       "      <td>0.000000</td>\n",
       "      <td>0.000000</td>\n",
       "      <td>0.000000</td>\n",
       "      <td>0.000269</td>\n",
       "      <td>0.0</td>\n",
       "      <td>0.0</td>\n",
       "      <td>0.0</td>\n",
       "      <td>NaN</td>\n",
       "      <td>NaN</td>\n",
       "      <td>756.539254</td>\n",
       "    </tr>\n",
       "    <tr>\n",
       "      <td>...</td>\n",
       "      <td>...</td>\n",
       "      <td>...</td>\n",
       "      <td>...</td>\n",
       "      <td>...</td>\n",
       "      <td>...</td>\n",
       "      <td>...</td>\n",
       "      <td>...</td>\n",
       "      <td>...</td>\n",
       "      <td>...</td>\n",
       "      <td>...</td>\n",
       "      <td>...</td>\n",
       "      <td>...</td>\n",
       "      <td>...</td>\n",
       "      <td>...</td>\n",
       "      <td>...</td>\n",
       "      <td>...</td>\n",
       "      <td>...</td>\n",
       "      <td>...</td>\n",
       "      <td>...</td>\n",
       "      <td>...</td>\n",
       "      <td>...</td>\n",
       "      <td>...</td>\n",
       "    </tr>\n",
       "    <tr>\n",
       "      <td rowspan=\"5\" valign=\"top\">tree6</td>\n",
       "      <td>1695787</td>\n",
       "      <td>310000.0</td>\n",
       "      <td>2628463.0</td>\n",
       "      <td>607.340875</td>\n",
       "      <td>-0.460089</td>\n",
       "      <td>1.738304</td>\n",
       "      <td>True</td>\n",
       "      <td>1</td>\n",
       "      <td>426.450104</td>\n",
       "      <td>2442.497803</td>\n",
       "      <td>1213.441162</td>\n",
       "      <td>...</td>\n",
       "      <td>0.000000</td>\n",
       "      <td>0.000000</td>\n",
       "      <td>0.000000</td>\n",
       "      <td>0.000000</td>\n",
       "      <td>0.0</td>\n",
       "      <td>0.0</td>\n",
       "      <td>0.0</td>\n",
       "      <td>362247.626144</td>\n",
       "      <td>-177284.000000</td>\n",
       "      <td>2479.446553</td>\n",
       "    </tr>\n",
       "    <tr>\n",
       "      <td>1695792</td>\n",
       "      <td>310000.0</td>\n",
       "      <td>2629127.0</td>\n",
       "      <td>167.727344</td>\n",
       "      <td>-1.445995</td>\n",
       "      <td>0.738336</td>\n",
       "      <td>True</td>\n",
       "      <td>1</td>\n",
       "      <td>1441.990723</td>\n",
       "      <td>1419.345825</td>\n",
       "      <td>4256.796387</td>\n",
       "      <td>...</td>\n",
       "      <td>0.002398</td>\n",
       "      <td>0.447402</td>\n",
       "      <td>0.085084</td>\n",
       "      <td>0.026268</td>\n",
       "      <td>0.0</td>\n",
       "      <td>0.0</td>\n",
       "      <td>0.0</td>\n",
       "      <td>154859.770543</td>\n",
       "      <td>-325802.156250</td>\n",
       "      <td>2023.333837</td>\n",
       "    </tr>\n",
       "    <tr>\n",
       "      <td>1695797</td>\n",
       "      <td>310000.0</td>\n",
       "      <td>2629903.0</td>\n",
       "      <td>208.756359</td>\n",
       "      <td>0.050490</td>\n",
       "      <td>1.775342</td>\n",
       "      <td>True</td>\n",
       "      <td>1</td>\n",
       "      <td>487.297394</td>\n",
       "      <td>2181.379883</td>\n",
       "      <td>341.350647</td>\n",
       "      <td>...</td>\n",
       "      <td>0.000000</td>\n",
       "      <td>0.000000</td>\n",
       "      <td>0.000000</td>\n",
       "      <td>0.000000</td>\n",
       "      <td>0.0</td>\n",
       "      <td>0.0</td>\n",
       "      <td>0.0</td>\n",
       "      <td>181654.953368</td>\n",
       "      <td>27742.279297</td>\n",
       "      <td>2235.145844</td>\n",
       "    </tr>\n",
       "    <tr>\n",
       "      <td>1695820</td>\n",
       "      <td>310000.0</td>\n",
       "      <td>2629720.0</td>\n",
       "      <td>83.999984</td>\n",
       "      <td>-2.002803</td>\n",
       "      <td>2.893714</td>\n",
       "      <td>True</td>\n",
       "      <td>1</td>\n",
       "      <td>1011.810425</td>\n",
       "      <td>309.933258</td>\n",
       "      <td>3259.207275</td>\n",
       "      <td>...</td>\n",
       "      <td>0.000000</td>\n",
       "      <td>0.000000</td>\n",
       "      <td>0.000000</td>\n",
       "      <td>0.000000</td>\n",
       "      <td>0.0</td>\n",
       "      <td>0.0</td>\n",
       "      <td>0.0</td>\n",
       "      <td>189880.445424</td>\n",
       "      <td>-584814.750000</td>\n",
       "      <td>1058.214988</td>\n",
       "    </tr>\n",
       "    <tr>\n",
       "      <td>1695822</td>\n",
       "      <td>310000.0</td>\n",
       "      <td>2628963.0</td>\n",
       "      <td>216.514703</td>\n",
       "      <td>0.155385</td>\n",
       "      <td>2.572538</td>\n",
       "      <td>True</td>\n",
       "      <td>1</td>\n",
       "      <td>2221.168945</td>\n",
       "      <td>1310.453613</td>\n",
       "      <td>443.914246</td>\n",
       "      <td>...</td>\n",
       "      <td>0.000000</td>\n",
       "      <td>0.000000</td>\n",
       "      <td>0.000000</td>\n",
       "      <td>0.000000</td>\n",
       "      <td>0.0</td>\n",
       "      <td>0.0</td>\n",
       "      <td>0.0</td>\n",
       "      <td>145729.990106</td>\n",
       "      <td>25084.673828</td>\n",
       "      <td>2578.930041</td>\n",
       "    </tr>\n",
       "  </tbody>\n",
       "</table>\n",
       "<p>707209 rows × 39 columns</p>\n",
       "</div>"
      ],
      "text/plain": [
       "               RunNumber  EventNumber       JetPt    JetEta    JetPhi  IsLLP  \\\n",
       "Tree  entry                                                                    \n",
       "tree1 0         284500.0    2041602.0   50.151355  1.767030  0.074290   True   \n",
       "      2         284500.0    2159562.0  163.244844  1.709549  2.769850   True   \n",
       "      6         284500.0    2041493.0   46.729578 -1.403121 -1.725780   True   \n",
       "      8         284500.0    2159659.0   47.010680 -0.627007 -0.930283   True   \n",
       "      9         284500.0    2159064.0   59.273605 -0.498937  2.036183   True   \n",
       "...                  ...          ...         ...       ...       ...    ...   \n",
       "tree6 1695787   310000.0    2628463.0  607.340875 -0.460089  1.738304   True   \n",
       "      1695792   310000.0    2629127.0  167.727344 -1.445995  0.738336   True   \n",
       "      1695797   310000.0    2629903.0  208.756359  0.050490  1.775342   True   \n",
       "      1695820   310000.0    2629720.0   83.999984 -2.002803  2.893714   True   \n",
       "      1695822   310000.0    2628963.0  216.514703  0.155385  2.572538   True   \n",
       "\n",
       "               nLLPs_Near_Jets           Lx           Ly           Lz  ...  \\\n",
       "Tree  entry                                                            ...   \n",
       "tree1 0                      1  1851.684326   178.223892  5354.035156  ...   \n",
       "      2                      1   609.158691   239.010056  1741.357788  ...   \n",
       "      6                      1   122.027023   903.753418  1733.289429  ...   \n",
       "      8                      1  2115.701660  2620.996338  2361.141357  ...   \n",
       "      9                      1   312.372742   689.039124   424.279541  ...   \n",
       "...                        ...          ...          ...          ...  ...   \n",
       "tree6 1695787                1   426.450104  2442.497803  1213.441162  ...   \n",
       "      1695792                1  1441.990723  1419.345825  4256.796387  ...   \n",
       "      1695797                1   487.297394  2181.379883   341.350647  ...   \n",
       "      1695820                1  1011.810425   309.933258  3259.207275  ...   \n",
       "      1695822                1  2221.168945  1310.453613   443.914246  ...   \n",
       "\n",
       "                EH_TGL2   EH_EBL0   EH_EBL1   EH_EBL2  FC_L0  FC_L1  FC_L2  \\\n",
       "Tree  entry                                                                  \n",
       "tree1 0        0.000000  0.019344  0.000731  0.000000    0.0    0.0    0.0   \n",
       "      2        0.000000  0.004981 -0.000061  0.000000    0.0    0.0    0.0   \n",
       "      6        0.000401  0.039884  0.011312 -0.000262    0.0    0.0    0.0   \n",
       "      8        0.000000  0.000000  0.000000  0.000000    0.0    0.0    0.0   \n",
       "      9        0.000000  0.000000  0.000000  0.000269    0.0    0.0    0.0   \n",
       "...                 ...       ...       ...       ...    ...    ...    ...   \n",
       "tree6 1695787  0.000000  0.000000  0.000000  0.000000    0.0    0.0    0.0   \n",
       "      1695792  0.002398  0.447402  0.085084  0.026268    0.0    0.0    0.0   \n",
       "      1695797  0.000000  0.000000  0.000000  0.000000    0.0    0.0    0.0   \n",
       "      1695820  0.000000  0.000000  0.000000  0.000000    0.0    0.0    0.0   \n",
       "      1695822  0.000000  0.000000  0.000000  0.000000    0.0    0.0    0.0   \n",
       "\n",
       "                         Lpt            Lpz          Lxy  \n",
       "Tree  entry                                               \n",
       "tree1 0                  NaN            NaN  1860.241543  \n",
       "      2                  NaN            NaN   654.370016  \n",
       "      6                  NaN            NaN   911.954404  \n",
       "      8                  NaN            NaN  3368.354987  \n",
       "      9                  NaN            NaN   756.539254  \n",
       "...                      ...            ...          ...  \n",
       "tree6 1695787  362247.626144 -177284.000000  2479.446553  \n",
       "      1695792  154859.770543 -325802.156250  2023.333837  \n",
       "      1695797  181654.953368   27742.279297  2235.145844  \n",
       "      1695820  189880.445424 -584814.750000  1058.214988  \n",
       "      1695822  145729.990106   25084.673828  2578.930041  \n",
       "\n",
       "[707209 rows x 39 columns]"
      ]
     },
     "execution_count": 63,
     "metadata": {},
     "output_type": "execute_result"
    }
   ],
   "source": [
    "#Add a new panda series \"Lxy\", which describe the 2d decay length Lxy, into the filtered dataframe.\n",
    "LLP_tree[\"Lxy\"] = np.sqrt(LLP_tree.Lx ** 2 + LLP_tree.Ly ** 2)\n",
    "LLP_tree"
   ]
  },
  {
   "cell_type": "markdown",
   "metadata": {},
   "source": [
    "## 2.Train and Test the Model for LLP Data\n",
    "- Boosted Decision Tree"
   ]
  },
  {
   "cell_type": "code",
   "execution_count": 108,
   "metadata": {},
   "outputs": [
    {
     "data": {
      "text/plain": [
       "DecisionTreeRegressor(criterion='mse', max_depth=None, max_features=None,\n",
       "                      max_leaf_nodes=None, min_impurity_decrease=0.0,\n",
       "                      min_impurity_split=None, min_samples_leaf=1,\n",
       "                      min_samples_split=2, min_weight_fraction_leaf=0.0,\n",
       "                      presort=False, random_state=None, splitter='best')"
      ]
     },
     "execution_count": 108,
     "metadata": {},
     "output_type": "execute_result"
    }
   ],
   "source": [
    "from sklearn import tree\n",
    "model1 = tree.DecisionTreeRegressor()\n",
    "energy = LLP_tree.loc[:,\"EMM_BL0\":\"FC_L2\"]\n",
    "dlength = LLP_tree[\"Lxy\"]\n",
    "model1.fit(energy,dlength)"
   ]
  },
  {
   "cell_type": "markdown",
   "metadata": {},
   "source": [
    "- Neural Networks"
   ]
  },
  {
   "cell_type": "code",
   "execution_count": 107,
   "metadata": {},
   "outputs": [
    {
     "name": "stderr",
     "output_type": "stream",
     "text": [
      "C:\\Users\\18917\\Anaconda3\\lib\\site-packages\\sklearn\\neural_network\\multilayer_perceptron.py:566: ConvergenceWarning: Stochastic Optimizer: Maximum iterations (200) reached and the optimization hasn't converged yet.\n",
      "  % self.max_iter, ConvergenceWarning)\n"
     ]
    },
    {
     "data": {
      "text/plain": [
       "MLPRegressor(activation='logistic', alpha=0.0001, batch_size='auto', beta_1=0.9,\n",
       "             beta_2=0.999, early_stopping=False, epsilon=1e-08,\n",
       "             hidden_layer_sizes=150, learning_rate='constant',\n",
       "             learning_rate_init=0.001, max_iter=200, momentum=0.9,\n",
       "             n_iter_no_change=10, nesterovs_momentum=True, power_t=0.5,\n",
       "             random_state=None, shuffle=True, solver='adam', tol=0.0001,\n",
       "             validation_fraction=0.1, verbose=False, warm_start=False)"
      ]
     },
     "execution_count": 107,
     "metadata": {},
     "output_type": "execute_result"
    }
   ],
   "source": [
    "from sklearn.neural_network import MLPRegressor\n",
    "model2 = MLPRegressor(hidden_layer_sizes = 150, activation = \"logistic\", solver = \"adam\", max_iter = 200)\n",
    "model2.fit(energy,dlength)"
   ]
  },
  {
   "cell_type": "markdown",
   "metadata": {},
   "source": [
    "- Then we want to check how well these two models work to predict the decay length."
   ]
  },
  {
   "cell_type": "code",
   "execution_count": 145,
   "metadata": {},
   "outputs": [],
   "source": [
    "from sklearn import metrics\n",
    "DTpredict = pd.DataFrame(model1.predict(energy))\n",
    "NNpredict = model2.predict(energy)"
   ]
  },
  {
   "cell_type": "code",
   "execution_count": 195,
   "metadata": {},
   "outputs": [
    {
     "name": "stdout",
     "output_type": "stream",
     "text": [
      "The root mean square error of Decision Tree is  8.786561463662317e-07\n",
      "The root mean square error of Neural Networks is  546.847141989618\n"
     ]
    }
   ],
   "source": [
    "print(\"The root mean square error of Decision Tree is \",np.sqrt(metrics.mean_squared_error(DTpredict,dlength)))\n",
    "print(\"The root mean square error of Neural Networks is \",np.sqrt(metrics.mean_squared_error(NNpredict,dlength)))"
   ]
  },
  {
   "cell_type": "code",
   "execution_count": 236,
   "metadata": {},
   "outputs": [
    {
     "data": {
      "image/png": "[encoded data removed]",
      "text/plain": [
       "<Figure size 720x504 with 1 Axes>"
      ]
     },
     "metadata": {
      "needs_background": "light"
     },
     "output_type": "display_data"
    }
   ],
   "source": [
    "plt.figure(figsize = [10,7])\n",
    "plot1 = plt.plot(np.absolute(dlength.values-DTpredict))\n",
    "plt.title(\"Absolute Difference Between Exprected and Actual Value of Decay Length Using Decision Tree\")\n",
    "plt.show()"
   ]
  },
  {
   "cell_type": "code",
   "execution_count": 237,
   "metadata": {},
   "outputs": [
    {
     "data": {
      "image/png": "[encoded data removed]",
      "text/plain": [
       "<Figure size 720x504 with 1 Axes>"
      ]
     },
     "metadata": {
      "needs_background": "light"
     },
     "output_type": "display_data"
    }
   ],
   "source": [
    "plt.figure(figsize = [10,7])\n",
    "plot2 = plt.plot(np.absolute(dlength.values-NNpredict))\n",
    "plt.title(\"Absolute Difference Between Exprected and Actual Value of Decay Length Using Neural Networks\")\n",
    "plt.show()"
   ]
  },
  {
   "cell_type": "markdown",
   "metadata": {},
   "source": [
    "With the default setting, the Decision Tree model has made a good prediction for the test data set and it spend a small amount of time for the traing. However, the nearly perfect accuracy may indicate that the decision tree is overfitted to the test data. Its performance towards new data set remains doubted.\n",
    "\n",
    "For the neural networks, the training process took a long time, and within the given number of iteration, it failed to reach convergence. The result is a very poor prediction accuracy. "
   ]
  },
  {
   "cell_type": "markdown",
   "metadata": {},
   "source": [
    "## Train and Test the Model for NLLP Data"
   ]
  },
  {
   "cell_type": "code",
   "execution_count": 238,
   "metadata": {},
   "outputs": [],
   "source": [
    "NLLP_tree = comb_tree.loc[comb_tree.IsLLP == False]"
   ]
  },
  {
   "cell_type": "code",
   "execution_count": 239,
   "metadata": {},
   "outputs": [
    {
     "data": {
      "text/plain": [
       "DecisionTreeRegressor(criterion='mse', max_depth=None, max_features=None,\n",
       "                      max_leaf_nodes=None, min_impurity_decrease=0.0,\n",
       "                      min_impurity_split=None, min_samples_leaf=1,\n",
       "                      min_samples_split=2, min_weight_fraction_leaf=0.0,\n",
       "                      presort=False, random_state=None, splitter='best')"
      ]
     },
     "execution_count": 239,
     "metadata": {},
     "output_type": "execute_result"
    }
   ],
   "source": [
    "Nenergy = NLLP_tree.loc[:,\"EMM_BL0\":\"FC_L2\"]\n",
    "Ndlength = NLLP_tree[\"Lxy\"]\n",
    "model3 = tree.DecisionTreeRegressor()\n",
    "model3.fit(Nenergy,Ndlength)"
   ]
  },
  {
   "cell_type": "code",
   "execution_count": 240,
   "metadata": {},
   "outputs": [
    {
     "data": {
      "text/plain": [
       "MLPRegressor(activation='logistic', alpha=0.0001, batch_size='auto', beta_1=0.9,\n",
       "             beta_2=0.999, early_stopping=False, epsilon=1e-08,\n",
       "             hidden_layer_sizes=150, learning_rate='constant',\n",
       "             learning_rate_init=0.001, max_iter=200, momentum=0.9,\n",
       "             n_iter_no_change=10, nesterovs_momentum=True, power_t=0.5,\n",
       "             random_state=None, shuffle=True, solver='adam', tol=0.0001,\n",
       "             validation_fraction=0.1, verbose=False, warm_start=False)"
      ]
     },
     "execution_count": 240,
     "metadata": {},
     "output_type": "execute_result"
    }
   ],
   "source": [
    "model4 = MLPRegressor(hidden_layer_sizes = 150, activation = \"logistic\", solver = \"adam\", max_iter = 200)\n",
    "model4.fit(Nenergy,Ndlength)"
   ]
  },
  {
   "cell_type": "code",
   "execution_count": 245,
   "metadata": {},
   "outputs": [],
   "source": [
    "DTpredictN = model3.predict(Nenergy)\n",
    "NNpredictN = model4.predict(Nenergy)"
   ]
  },
  {
   "cell_type": "code",
   "execution_count": 247,
   "metadata": {},
   "outputs": [
    {
     "name": "stdout",
     "output_type": "stream",
     "text": [
      "The root mean square error of Decision Tree is  0.0\n",
      "The root mean square error of Neural Networks is  1.6030017832702038e-05\n"
     ]
    }
   ],
   "source": [
    "print(\"The root mean square error of Decision Tree is \",np.sqrt(metrics.mean_squared_error(DTpredictN,Ndlength)))\n",
    "print(\"The root mean square error of Neural Networks is \",np.sqrt(metrics.mean_squared_error(NNpredictN,Ndlength)))"
   ]
  },
  {
   "cell_type": "code",
   "execution_count": 248,
   "metadata": {},
   "outputs": [
    {
     "data": {
      "image/png": "[encoded data removed]",
      "text/plain": [
       "<Figure size 720x504 with 1 Axes>"
      ]
     },
     "metadata": {
      "needs_background": "light"
     },
     "output_type": "display_data"
    }
   ],
   "source": [
    "plt.figure(figsize = [10,7])\n",
    "plot1 = plt.plot(np.absolute(Ndlength.values-DTpredictN))\n",
    "plt.title(\"Absolute Difference Between Exprected and Actual Value of Decay Length Using Decision Tree\")\n",
    "plt.show()"
   ]
  },
  {
   "cell_type": "code",
   "execution_count": 249,
   "metadata": {},
   "outputs": [
    {
     "data": {
      "image/png": "[encoded data removed]",
      "text/plain": [
       "<Figure size 720x504 with 1 Axes>"
      ]
     },
     "metadata": {
      "needs_background": "light"
     },
     "output_type": "display_data"
    }
   ],
   "source": [
    "plt.figure(figsize = [10,7])\n",
    "plot2 = plt.plot(np.absolute(Ndlength.values-NNpredictN))\n",
    "plt.title(\"Absolute Difference Between Exprected and Actual Value of Decay Length Using Neural Networks\")\n",
    "plt.show()"
   ]
  },
  {
   "cell_type": "markdown",
   "metadata": {},
   "source": [
    "This time, the accuracy of both methods improves. However, the boosted decision tree still works better than Neural Network."
   ]
  },
  {
   "cell_type": "markdown",
   "metadata": {},
   "source": [
    "## Include both LLP and NLLP Data"
   ]
  },
  {
   "cell_type": "code",
   "execution_count": 250,
   "metadata": {},
   "outputs": [],
   "source": [
    "energyc = comb_tree.loc[:,\"EMM_BL0\":\"FC_L2\"]\n",
    "dlengthc = comb_tree[\"Lxy\"]"
   ]
  },
  {
   "cell_type": "code",
   "execution_count": 251,
   "metadata": {},
   "outputs": [
    {
     "data": {
      "text/plain": [
       "DecisionTreeRegressor(criterion='mse', max_depth=None, max_features=None,\n",
       "                      max_leaf_nodes=None, min_impurity_decrease=0.0,\n",
       "                      min_impurity_split=None, min_samples_leaf=1,\n",
       "                      min_samples_split=2, min_weight_fraction_leaf=0.0,\n",
       "                      presort=False, random_state=None, splitter='best')"
      ]
     },
     "execution_count": 251,
     "metadata": {},
     "output_type": "execute_result"
    }
   ],
   "source": [
    "model1.fit(energyc,dlengthc)"
   ]
  },
  {
   "cell_type": "code",
   "execution_count": 252,
   "metadata": {},
   "outputs": [
    {
     "name": "stderr",
     "output_type": "stream",
     "text": [
      "C:\\Users\\18917\\Anaconda3\\lib\\site-packages\\sklearn\\neural_network\\multilayer_perceptron.py:566: ConvergenceWarning: Stochastic Optimizer: Maximum iterations (200) reached and the optimization hasn't converged yet.\n",
      "  % self.max_iter, ConvergenceWarning)\n"
     ]
    },
    {
     "data": {
      "text/plain": [
       "MLPRegressor(activation='logistic', alpha=0.0001, batch_size='auto', beta_1=0.9,\n",
       "             beta_2=0.999, early_stopping=False, epsilon=1e-08,\n",
       "             hidden_layer_sizes=150, learning_rate='constant',\n",
       "             learning_rate_init=0.001, max_iter=200, momentum=0.9,\n",
       "             n_iter_no_change=10, nesterovs_momentum=True, power_t=0.5,\n",
       "             random_state=None, shuffle=True, solver='adam', tol=0.0001,\n",
       "             validation_fraction=0.1, verbose=False, warm_start=False)"
      ]
     },
     "execution_count": 252,
     "metadata": {},
     "output_type": "execute_result"
    }
   ],
   "source": [
    "model2.fit(energyc,dlengthc)"
   ]
  },
  {
   "cell_type": "code",
   "execution_count": 253,
   "metadata": {},
   "outputs": [],
   "source": [
    "DTpredictC = model1.predict(energyc)\n",
    "NNpredictC = model2.predict(energyc)"
   ]
  },
  {
   "cell_type": "code",
   "execution_count": 254,
   "metadata": {},
   "outputs": [
    {
     "name": "stdout",
     "output_type": "stream",
     "text": [
      "The root mean square error of Decision Tree is  4.4639724158969176e-07\n",
      "The root mean square error of Neural Networks is  447.4088654678627\n"
     ]
    }
   ],
   "source": [
    "print(\"The root mean square error of Decision Tree is \",np.sqrt(metrics.mean_squared_error(DTpredictC,dlengthc)))\n",
    "print(\"The root mean square error of Neural Networks is \",np.sqrt(metrics.mean_squared_error(NNpredictC,dlengthc)))"
   ]
  },
  {
   "cell_type": "code",
   "execution_count": 255,
   "metadata": {},
   "outputs": [
    {
     "data": {
      "image/png": "[encoded data removed]",
      "text/plain": [
       "<Figure size 720x504 with 1 Axes>"
      ]
     },
     "metadata": {
      "needs_background": "light"
     },
     "output_type": "display_data"
    }
   ],
   "source": [
    "plt.figure(figsize = [10,7])\n",
    "plot1 = plt.plot(np.absolute(dlengthc.values-DTpredictC))\n",
    "plt.title(\"Absolute Difference Between Exprected and Actual Value of Decay Length Using Decision Tree\")\n",
    "plt.show()"
   ]
  },
  {
   "cell_type": "code",
   "execution_count": 256,
   "metadata": {},
   "outputs": [
    {
     "data": {
      "image/png": "[encoded data removed]",
      "text/plain": [
       "<Figure size 720x504 with 1 Axes>"
      ]
     },
     "metadata": {
      "needs_background": "light"
     },
     "output_type": "display_data"
    }
   ],
   "source": [
    "plt.figure(figsize = [10,7])\n",
    "plot2 = plt.plot(np.absolute(dlengthc.values-NNpredictC))\n",
    "plt.title(\"Absolute Difference Between Exprected and Actual Value of Decay Length Using Neural Networks\")\n",
    "plt.show()"
   ]
  },
  {
   "cell_type": "markdown",
   "metadata": {},
   "source": [
    "- From the test, the neural network gives bad prediction. The major problem here is that neural network needs a lot more time to train itself, and within the given number of iteration, it cannot reach an optimized output. "
   ]
  },
  {
   "cell_type": "markdown",
   "metadata": {},
   "source": [
    "## Cross Validation"
   ]
  },
  {
   "cell_type": "markdown",
   "metadata": {},
   "source": [
    "- Use cross validation to check the accuracy of decision tree on LLP data only"
   ]
  },
  {
   "cell_type": "code",
   "execution_count": 259,
   "metadata": {},
   "outputs": [],
   "source": [
    "from sklearn.model_selection import train_test_split"
   ]
  },
  {
   "cell_type": "code",
   "execution_count": 261,
   "metadata": {},
   "outputs": [
    {
     "data": {
      "text/plain": [
       "DecisionTreeRegressor(criterion='mse', max_depth=None, max_features=None,\n",
       "                      max_leaf_nodes=None, min_impurity_decrease=0.0,\n",
       "                      min_impurity_split=None, min_samples_leaf=1,\n",
       "                      min_samples_split=2, min_weight_fraction_leaf=0.0,\n",
       "                      presort=False, random_state=None, splitter='best')"
      ]
     },
     "execution_count": 261,
     "metadata": {},
     "output_type": "execute_result"
    }
   ],
   "source": [
    "energy_train, energy_test, dlength_train, dlength_test = train_test_split(energy,dlength,test_size = 0.3)\n",
    "model1.fit(energy_train,dlength_train)"
   ]
  },
  {
   "cell_type": "code",
   "execution_count": 262,
   "metadata": {},
   "outputs": [],
   "source": [
    "dlength_pred = model1.predict(energy_test)"
   ]
  },
  {
   "cell_type": "code",
   "execution_count": 264,
   "metadata": {},
   "outputs": [
    {
     "name": "stdout",
     "output_type": "stream",
     "text": [
      "The root mean square error of Decision Tree is  758.4379033182549\n"
     ]
    }
   ],
   "source": [
    "print(\"The root mean square error of Decision Tree is \",np.sqrt(metrics.mean_squared_error(dlength_pred,dlength_test)))"
   ]
  },
  {
   "cell_type": "markdown",
   "metadata": {},
   "source": [
    "- There is a large error of the the decision tree on the splited data. With the default setting of decision tree parameters, the model overfits to the given data and is not expected to give acceptable predition for new data."
   ]
  },
  {
   "cell_type": "code",
   "execution_count": null,
   "metadata": {},
   "outputs": [],
   "source": []
  }
 ],
 "metadata": {
  "kernelspec": {
   "display_name": "Python 3",
   "language": "python",
   "name": "python3"
  },
  "language_info": {
   "codemirror_mode": {
    "name": "ipython",
    "version": 3
   },
   "file_extension": ".py",
   "mimetype": "text/x-python",
   "name": "python",
   "nbconvert_exporter": "python",
   "pygments_lexer": "ipython3",
   "version": "3.7.4"
  }
 },
 "nbformat": 4,
 "nbformat_minor": 4
}
